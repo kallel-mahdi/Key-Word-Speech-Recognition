{
  "nbformat": 4,
  "nbformat_minor": 0,
  "metadata": {
    "colab": {
      "name": "DTW.ipynb",
      "version": "0.3.2",
      "provenance": [],
      "collapsed_sections": []
    },
    "kernelspec": {
      "name": "python3",
      "display_name": "Python 3"
    }
  },
  "cells": [
    {
      "metadata": {
        "id": "bfnIuq5gYXQt",
        "colab_type": "code",
        "colab": {
          "base_uri": "https://localhost:8080/",
          "height": 117
        },
        "outputId": "7291ce61-5d81-457e-fe5b-67a72d2e2341"
      },
      "cell_type": "code",
      "source": [
        "!pip install dtw\n",
        "!pip install fastdtw\n",
        "!pip install pydtw\n",
        "import matplotlib.pyplot as plt\n",
        "import numpy as np\n",
        "import librosa\n",
        "import IPython.display\n",
        "from IPython.display import Image\n",
        "from fastdtw import fastdtw\n",
        "from dtw import dtw as dtw2\n",
        "from pydtw import dtw1d\n",
        "from scipy.spatial.distance import euclidean\n",
        "\n",
        "\n",
        "def maindtw(test: list, sample: list):\n",
        "    global a\n",
        "    global b\n",
        "    global p\n",
        "    d=dtwa(test,sample)\n",
        "    print(d.sizeTest,d.sizeTemplate)\n",
        "    dist,backP=d.warp(test,sample)\n",
        "    path=d.path(backP)\n",
        "    plot_path(path)\n",
        "    return(dist,path)\n",
        "\n",
        "class dtwa():\n",
        "    def __init__(self,test:list,template:list):\n",
        "        self.test=np.array(test)\n",
        "        self.sizeTest=(self.test).shape[0]\n",
        "        \"\"\"number of frames \"\"\"\n",
        "        self.template=np.array(template)\n",
        "        self.sizeTemplate=(self.template.shape)[0]\n",
        "        self.sizeMfcc=len(test[0]); \"\"\"the size of a mfcc vector\"\"\"\n",
        "        \n",
        "        self.globalDistance=[]\n",
        "        self.backPointer=[]\n",
        "        \n",
        "        \n",
        "    def localDistance(self,mfcc1:list, mfcc2:list):\n",
        "      #this is the distance between two points, in our case each point is an mfcc vector\n",
        "       s=0\n",
        "       assert(len(mfcc1)==len(mfcc2))\n",
        "       for i in range(self.sizeMfcc):\n",
        "           s+=np.abs(mfcc1[i]-mfcc2[i])\n",
        "           \n",
        "       return(s/len(mfcc1))\n",
        "\n",
        "            \n",
        "        \n",
        "    def warp(self,test:list,template:list):\n",
        "        test=np.array(test)\n",
        "        template=np.array(template)\n",
        "        backPointer=[]\n",
        "        globalDistance=[]\n",
        "        \"\"\"....\"\"\"\n",
        "    \n",
        "        \n",
        "        \"\"\" We initialize the matrices of the distance (globalDistance) and the matrice of the closest neighbour to every point backPointer\"\"\"\n",
        "        for i in range(self.sizeTest):\n",
        "                column=[]\n",
        "                colonne=[]\n",
        "                for j in range(self.sizeTemplate):\n",
        "                        \n",
        "                        column.append(float(\"inf\"))\n",
        "                        colonne.append((None,None))\n",
        "                       \n",
        "                        \n",
        "                globalDistance.append(column)\n",
        "                backPointer.append(colonne)\n",
        "                        \n",
        "                        \n",
        "        \"\"\"Now we start warping\"\"\"\n",
        "        \n",
        "        for i in range(self.sizeTest):\n",
        "                for j in range(self.sizeTemplate):\n",
        "                    if (i==0 ) and (j==0):\n",
        "                        globalDistance[i][j]=self.localDistance(test[i],template[j])\n",
        "                        backPointer[i][j]=(None,None)\n",
        "                        \n",
        "                        \n",
        "                    elif(i==0):\n",
        "                        globalDistance[i][j]=globalDistance[i][j-1]+self.localDistance(test[i],template[j])\n",
        "                        backPointer[i][j]=(i,j-1)\n",
        "                        \n",
        "                    elif(j==0):\n",
        "                        globalDistance[i][j]=globalDistance[i-1][j]+self.localDistance(test[i],template[j])\n",
        "                        backPointer[i][j]=(i-1,j)\n",
        "                    else:\n",
        "                      \n",
        "                         \n",
        "                        lowest_global_distance = globalDistance[i-1][j-1]\n",
        "                        backPointer[i][j] = (i-1,j-1)\n",
        "                        \n",
        "                        if globalDistance[i][j-1] < lowest_global_distance:\n",
        "                                lowest_global_distance = globalDistance[i][j-1]\n",
        "                                backPointer[i][j] = (i,j-1)\n",
        "                        if globalDistance[i-1][j] < lowest_global_distance:\n",
        "                                lowest_global_distance = globalDistance[i-1][j]\n",
        "                                backPointer[i][j] = (i-1,j)\n",
        "                        globalDistance[i][j] = lowest_global_distance + self.localDistance(test[i],template[j] )                                \n",
        "                            \n",
        "                        \n",
        " \n",
        " \n",
        "        distance=globalDistance[-1][-1]        \n",
        "        #We return only the distance\n",
        "        return(distance,backPointer)\n",
        "        \n",
        "    def path(self,backPointer):\n",
        "            \"\"\"returns the warping path \"\"\"\n",
        "            path=[(self.sizeTest-1,self.sizeTemplate-1)]\n",
        "            pointer=backPointer[self.sizeTest-1][self.sizeTemplate-1]\n",
        "            while(pointer!=(None,None)):\n",
        "                path.append(pointer)\n",
        "                pointer=backPointer[pointer[0]][pointer[1]]\n",
        "            #we inverse the path\n",
        "            path=path[::-1]   \n",
        "            return(path)\n",
        "\n",
        "def plot_path(path:list):\n",
        "\n",
        "        path_x=[p[0] for p in path]\n",
        "        path_y=[p[1] for p in path]\n",
        "\n",
        "        plt.plot(path_x,path_y,marker='.', color='k', linestyle='none')\n",
        "        plt.show()\n",
        "            \n",
        "            \n",
        "            \n",
        "            \n",
        "                \n",
        "            \n",
        "            \n",
        "                            \n",
        "                            \n",
        "                        \n",
        "                        \n",
        "                     "
      ],
      "execution_count": 6,
      "outputs": [
        {
          "output_type": "stream",
          "text": [
            "Requirement already satisfied: dtw in /usr/local/lib/python3.6/dist-packages (1.3.3)\n",
            "Requirement already satisfied: scipy in /usr/local/lib/python3.6/dist-packages (from dtw) (1.2.1)\n",
            "Requirement already satisfied: numpy in /usr/local/lib/python3.6/dist-packages (from dtw) (1.16.3)\n",
            "Requirement already satisfied: fastdtw in /usr/local/lib/python3.6/dist-packages (0.3.2)\n",
            "Requirement already satisfied: numpy in /usr/local/lib/python3.6/dist-packages (from fastdtw) (1.16.3)\n",
            "Requirement already satisfied: pydtw in /usr/local/lib/python3.6/dist-packages (2.0.2)\n"
          ],
          "name": "stdout"
        }
      ]
    },
    {
      "metadata": {
        "id": "hYvm9tuc5OuQ",
        "colab_type": "text"
      },
      "cell_type": "markdown",
      "source": [
        "#We benchmark our algorithm against another found on github:\n",
        "\n",
        "We can see that they give the same path, we couldnt figure out why the distance is different, \n",
        "it's probably due to a normalisation constant."
      ]
    },
    {
      "metadata": {
        "id": "9ZRbjDnj6O-g",
        "colab_type": "code",
        "outputId": "7d2e3696-835f-45df-b7c8-73358b70b160",
        "colab": {
          "base_uri": "https://localhost:8080/",
          "height": 620
        }
      },
      "cell_type": "code",
      "source": [
        "import numpy as np\n",
        "\n",
        "# We define two sequences x, y as numpy array\n",
        "# where y is actually a sub-sequence from x\n",
        "x = np.random.rand(25).reshape(-1, 1)\n",
        "y = np.random.rand(20).reshape(-1, 1)\n",
        "\n",
        "from dtw import dtw \n",
        "euclidean_norm = lambda x, y: np.abs(x - y)\n",
        "\n",
        "d, cost_matrix, acc_cost_matrix, path = dtw(x, y, dist=euclidean_norm)\n",
        "\n",
        "print(d)\n",
        "print(path)\n",
        "plt.plot(path[0],path[1],marker='.',linestyle='none')\n",
        "plt.show()\n",
        "\n",
        "a=[[i,0] for i in x]\n",
        "b=[[i,0] for i in y]\n",
        "\n",
        "d,p=maindtw(a,b)\n",
        "print(d)\n"
      ],
      "execution_count": 9,
      "outputs": [
        {
          "output_type": "stream",
          "text": [
            "0.08363935536238105\n",
            "(array([ 0,  1,  2,  3,  4,  5,  6,  7,  8,  9, 10, 10, 11, 12, 13, 13, 14,\n",
            "       15, 16, 17, 18, 19, 20, 21, 22, 23, 23, 24, 24, 24]), array([ 0,  0,  1,  1,  1,  1,  1,  1,  1,  2,  3,  4,  5,  6,  7,  8,  9,\n",
            "       10, 10, 11, 12, 12, 13, 13, 14, 15, 16, 17, 18, 19]))\n"
          ],
          "name": "stdout"
        },
        {
          "output_type": "display_data",
          "data": {
            "image/png": "[encoded data removed]",
            "text/plain": [
              "<Figure size 432x288 with 1 Axes>"
            ]
          },
          "metadata": {
            "tags": []
          }
        },
        {
          "output_type": "stream",
          "text": [
            "25 20\n"
          ],
          "name": "stdout"
        },
        {
          "output_type": "display_data",
          "data": {
            "image/png": "[encoded data removed]",
            "text/plain": [
              "<Figure size 432x288 with 1 Axes>"
            ]
          },
          "metadata": {
            "tags": []
          }
        },
        {
          "output_type": "stream",
          "text": [
            "[1.8818855]\n"
          ],
          "name": "stdout"
        }
      ]
    }
  ]
}