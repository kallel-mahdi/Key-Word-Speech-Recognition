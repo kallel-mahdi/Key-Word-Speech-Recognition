{
  "nbformat": 4,
  "nbformat_minor": 0,
  "metadata": {
    "colab": {
      "name": "KNN.ipynb",
      "version": "0.3.2",
      "provenance": []
    },
    "kernelspec": {
      "name": "python3",
      "display_name": "Python 3"
    }
  },
  "cells": [
    {
      "metadata": {
        "id": "3rdrYg0PhLGi",
        "colab_type": "text"
      },
      "cell_type": "markdown",
      "source": [
        "#KNN\n"
      ]
    },
    {
      "metadata": {
        "id": "WdpRnQRrhOuv",
        "colab_type": "code",
        "colab": {}
      },
      "cell_type": "code",
      "source": [
        "# -*- coding: utf-8 -*-\n",
        "\"\"\"\n",
        "Created on Wed Feb  6 18:43:01 2019\n",
        "\n",
        "@author: mahdo\n",
        "\"\"\"\n",
        "from collections import Counter\n",
        "from myPickle import unpickling\n",
        "import mfcc_toolkits as mt\n",
        "from fastdtw import fastdtw\n",
        "from operator import itemgetter\n",
        "import os\n",
        "from scipy.spatial.distance import euclidean\n",
        "\n",
        "def knn(audio,dataDir,kNumber=4,examples=20):\n",
        "    #dataDir : the directory with the recorded pickles\n",
        "    #kNumber : the number of neighbours on wich we vote\n",
        "    #examples: number of comparaisons per class\n",
        "    testMFCC=mt.librosamfcc(audio)[0]\n",
        "    distances=[]\n",
        "    i=0\n",
        "    \"\"\"For example you are in dataDir:  trainPickles files are 0,1,...\"\"\"\n",
        "    \"\"\"In our case we have pickled 50 examples of each number if we want to perform knn on a new recording we compare it to the 50 recordings \n",
        "    from each class then we decide on the overall nearest neighbours \"\"\"\n",
        "    for file in os.listdir(dataDir):\n",
        "        data=unpickling(dataDir+file)\n",
        "        data=data[:examples]\n",
        "        print(\"i am knn i am in file \",file)\n",
        "        for mfcc in data:\n",
        "            distance, path = fastdtw(testMFCC,mfcc, dist=euclidean)\n",
        "            distances.append([distance,file])\n",
        "            i=i+1\n",
        "            if (i %100==0):\n",
        "                print(\"done doing\",i,\"distances\")\n",
        "    distances=sorted(distances,key=itemgetter(0))\n",
        "    temp=distances[:kNumber]\n",
        "    \n",
        "    \"\"\"We only take the labels of the neighbours\"\"\"\n",
        "    neighbours=[item[1] for item in temp]\n",
        "    \"\"\"Just an overview of the neighbours\"\"\"\n",
        "    count=Counter(neighbours)\n",
        "    print(count)\n",
        "    \"\"\"We give the label of our testMFCC\"\"\"\n",
        "    label=count.most_common(1)[0][0]\n",
        "    label=str(label)\n",
        "    return(temp,neighbours,label)\n",
        "    \n",
        "        \n"
      ],
      "execution_count": 0,
      "outputs": []
    }
  ]
}